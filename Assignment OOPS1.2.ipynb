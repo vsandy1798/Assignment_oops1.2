{
 "cells": [
  {
   "cell_type": "markdown",
   "id": "bfd6c4b7-2780-45c3-995e-742b73bf6235",
   "metadata": {},
   "source": [
    "Q1. What is Abstraction in OOps? Explain with an example."
   ]
  },
  {
   "cell_type": "markdown",
   "id": "c51d394d-3307-4575-8e42-da56e91d36c9",
   "metadata": {},
   "source": [
    "Abstraction is the process of hiding the internal details of an application from the outer world. Abstraction is used to describe things in simple terms. It's used to create a boundary between the application and the client programs."
   ]
  },
  {
   "cell_type": "code",
   "execution_count": 1,
   "id": "7cbd3bd3-d5dc-41e6-9f3c-4e6216f538ed",
   "metadata": {},
   "outputs": [],
   "source": [
    " import abc\n",
    "class details:\n",
    "        @abc.abstractmethod\n",
    "        def name(self):\n",
    "            pass\n",
    "        @abc.abstractmethod\n",
    "        def pin_code(self):\n",
    "            pass"
   ]
  },
  {
   "cell_type": "code",
   "execution_count": 2,
   "id": "b35d7bcf-be83-4f07-86f5-fa22ab4c8188",
   "metadata": {},
   "outputs": [],
   "source": [
    "class student(details):\n",
    "    def name(self):\n",
    "        return ram\n",
    "    def pin_code(self):\n",
    "        return 273"
   ]
  },
  {
   "cell_type": "markdown",
   "id": "b9248df8-1ec6-477c-87a3-3de764b449ee",
   "metadata": {},
   "source": [
    "Q2. Differentiate between Abstraction and Encapsulation. Explain with an example."
   ]
  },
  {
   "cell_type": "markdown",
   "id": "f96e4295-a695-4bf7-b04f-d873e0a5e81a",
   "metadata": {},
   "source": [
    "Abstraction is defined as a process of hiding the implementation details of a system from the user. Thus, by using abstraction, we provided only the functionality of the system to the user. Consequently, the user will have information on what the system does, but not on how the system does it.\n",
    "\n",
    "For example, when we consider the case of a search on google, complex details such as what happens as soon as we search about a query, the protocol our web server uses are hidden. Therefore, to make a search on google we just need to type the query, and click on the search button."
   ]
  },
  {
   "cell_type": "markdown",
   "id": "fa534f8f-a5d4-4a2d-9a1a-909961602f0f",
   "metadata": {},
   "source": [
    "Encapsulation is one of the fundamental OOP concepts. Encapsulation is defined as a method by which data wrapping is done into a single unit. It is used in wrapping up the data and the code acting on the data together as a single unit.\n",
    "\n",
    "In encapsulation, the variables of a class are hidden from other classes, and can be accessed only by methods of the current class. Therefore, encapsulation is also called data hiding. Encapsulation is implemented using access modifiers like public, private and protected."
   ]
  },
  {
   "cell_type": "markdown",
   "id": "fdf6cdde-0060-4d20-8efa-5e704417c36a",
   "metadata": {},
   "source": [
    "Q3. What is abc module in python? Why is it used?"
   ]
  },
  {
   "cell_type": "markdown",
   "id": "eed229b3-2add-411a-acd9-6b2696297d75",
   "metadata": {},
   "source": [
    "The 'abc' module in Python library provides the infrastructure for defining custom abstract base classes. 'abc' works by marking methods of the base class as abstract. This is done by @absttractmethod decorator."
   ]
  },
  {
   "cell_type": "markdown",
   "id": "4f68d627-5409-4e55-9c2a-8c24248a8819",
   "metadata": {},
   "source": [
    "Q4. How can we achieve data abstraction?"
   ]
  },
  {
   "cell_type": "markdown",
   "id": "7d336066-94e6-4d33-9ce9-094019e5f716",
   "metadata": {},
   "source": [
    "We can achieve data abstraction through Abstract classes and interfaces. Through abstract classes, you can achieve partial or complete abstraction as abstract classes contain methods that have an implementation which can result in partial abstraction."
   ]
  },
  {
   "cell_type": "code",
   "execution_count": null,
   "id": "5ea36f97-b1a6-4832-b0d7-e87c974bc098",
   "metadata": {},
   "outputs": [],
   "source": []
  }
 ],
 "metadata": {
  "kernelspec": {
   "display_name": "Python 3 (ipykernel)",
   "language": "python",
   "name": "python3"
  },
  "language_info": {
   "codemirror_mode": {
    "name": "ipython",
    "version": 3
   },
   "file_extension": ".py",
   "mimetype": "text/x-python",
   "name": "python",
   "nbconvert_exporter": "python",
   "pygments_lexer": "ipython3",
   "version": "3.10.8"
  }
 },
 "nbformat": 4,
 "nbformat_minor": 5
}
